{
 "cells": [
  {
   "cell_type": "code",
   "execution_count": 118,
   "metadata": {},
   "outputs": [
    {
     "name": "stdout",
     "output_type": "stream",
     "text": [
      "(50, 15)\n",
      "(57, 39)\n",
      "    SNO_x       name              email_x  Completion%_x  totalTask_x  \\\n",
      "0       1   Student1   student1@gmail.com          79.31           29   \n",
      "1       2   Student2   student2@gmail.com          55.17           29   \n",
      "2       3   Student3   student3@gmail.com          27.59           29   \n",
      "3       4   Student4   student4@gmail.com           6.90           29   \n",
      "4       5   Student5   student5@gmail.com           0.00           29   \n",
      "5       6   Student6   student6@gmail.com          62.07           29   \n",
      "6       7   Student7   student7@gmail.com          17.24           29   \n",
      "7       8   Student8   student8@gmail.com          41.38           29   \n",
      "8       9   Student9   student9@gmail.com           0.00           29   \n",
      "9      10  Student10  student10@gmail.com           0.00           29   \n",
      "10     11  Student11  student11@gmail.com           3.45           29   \n",
      "11     12  Student12  student12@gmail.com           0.00           29   \n",
      "12     13  Student13  student13@gmail.com          82.76           29   \n",
      "13     14  Student14  student14@gmail.com          86.21           29   \n",
      "14     15  Student15  student15@gmail.com           0.00           29   \n",
      "15     16  Student16  student16@gmail.com           6.90           29   \n",
      "16     17  Student17  student17@gmail.com           0.00           29   \n",
      "17     18  Student18  student18@gmail.com           0.00           29   \n",
      "18     19  Student19  student19@gmail.com           0.00           29   \n",
      "19     20  Student20  student20@gmail.com          96.55           29   \n",
      "20     21  Student21  student21@gmail.com          82.76           29   \n",
      "21     22  Student22  student22@gmail.com          17.24           29   \n",
      "22     23  Student23  student23@gmail.com          13.79           29   \n",
      "23     24  Student24  student24@gmail.com          55.17           29   \n",
      "24     25  Student25  student25@gmail.com          24.14           29   \n",
      "25     26  Student26  student26@gmail.com          72.41           29   \n",
      "26     27  Student27  student27@gmail.com          48.28           29   \n",
      "27     28  Student28  student28@gmail.com          86.21           29   \n",
      "28     29  Student29  student29@gmail.com          55.17           29   \n",
      "29     30  Student30  student30@gmail.com          27.59           29   \n",
      "30     31  Student31  student31@gmail.com          17.24           29   \n",
      "31     32  Student32  student32@gmail.com           6.90           29   \n",
      "32     33  Student33  student33@gmail.com          86.21           29   \n",
      "33     34  Student34  student34@gmail.com          65.52           29   \n",
      "34     35  Student35  student35@gmail.com          65.52           29   \n",
      "35     36  Student36  student36@gmail.com          86.21           29   \n",
      "36     37  Student37  student37@gmail.com          68.97           29   \n",
      "37     38  Student38  student38@gmail.com          44.83           29   \n",
      "38     39  Student39  student39@gmail.com          72.41           29   \n",
      "39     40  Student40  student40@gmail.com          51.72           29   \n",
      "40     41  Student41  student41@gmail.com          44.83           29   \n",
      "41     42  Student42  student42@gmail.com          68.97           29   \n",
      "42     43  Student43  student43@gmail.com          93.10           29   \n",
      "43     44  Student44  student44@gmail.com          44.83           29   \n",
      "44     45  Student45  student45@gmail.com          79.31           29   \n",
      "45     46  Student46  student46@gmail.com          65.52           29   \n",
      "46     47  Student47  student47@gmail.com           0.00           29   \n",
      "47     48  Student48  student48@gmail.com          93.10           29   \n",
      "48     49  Student49  student49@gmail.com          51.72           29   \n",
      "49     50  Student50  student50@gmail.com          27.59           29   \n",
      "\n",
      "    pendingTask_x  submittedTask_x  Unverified_x  TaskTotalMark_x  \\\n",
      "0               6               23            19             31.6   \n",
      "1              13               16            14             13.0   \n",
      "2              21                8             7              7.5   \n",
      "3              27                2             2              0.0   \n",
      "4              29                0             0              0.0   \n",
      "5              11               18            16             13.8   \n",
      "6              24                5             5              0.0   \n",
      "7              17               12            10             13.0   \n",
      "8              29                0             0              0.0   \n",
      "9              29                0             0              0.0   \n",
      "10             28                1             1              0.0   \n",
      "11             29                0             0              0.0   \n",
      "12              5               24            21             19.0   \n",
      "13              4               25            25              0.0   \n",
      "14             29                0             0              0.0   \n",
      "15             27                2             1              7.0   \n",
      "16             29                0             0              0.0   \n",
      "17             29                0             0              0.0   \n",
      "18             29                0             0              0.0   \n",
      "19              1               28            28              0.0   \n",
      "20              5               24            24              0.0   \n",
      "21             24                5             4              7.2   \n",
      "22             25                4             3              7.0   \n",
      "23             13               16            12             26.0   \n",
      "24             22                7             7              0.0   \n",
      "25              8               21            18             19.8   \n",
      "26             15               14            10             25.0   \n",
      "27              4               25            20             34.9   \n",
      "28             13               16            11             34.1   \n",
      "29             21                8             6             14.0   \n",
      "30             24                5             4              7.2   \n",
      "31             27                2             2              0.0   \n",
      "32              4               25            21             28.5   \n",
      "33             10               19            11             50.1   \n",
      "34             10               19            11             51.9   \n",
      "35              4               25            19             38.9   \n",
      "36              9               20            16             26.4   \n",
      "37             16               13             9             31.5   \n",
      "38              8               21            20              7.2   \n",
      "39             14               15             9             42.9   \n",
      "40             16               13             9             27.1   \n",
      "41              9               20            17             19.6   \n",
      "42              2               27            21             36.5   \n",
      "43             16               13            10             25.1   \n",
      "44              6               23            17             37.8   \n",
      "45             10               19            11             48.7   \n",
      "46             29                0             0              0.0   \n",
      "47              2               27            23             26.0   \n",
      "48             14               15            12             18.0   \n",
      "49             21                8             6             11.0   \n",
      "\n",
      "    TaskAverageMark_x  ...  TASK - 20 TASK - 21 TASK - 22 TASK - 23 TASK - 24  \\\n",
      "0               10.90  ...         NS        NS        NS        NS        NS   \n",
      "1                4.48  ...          -         -         -         -        NS   \n",
      "2                2.59  ...          -         -         -         -        NS   \n",
      "3                0.00  ...         NS        NS        NS        NS        NS   \n",
      "4                0.00  ...         NS        NS        NS        NS        NS   \n",
      "5                4.76  ...         NS        NS        NS        NS        NS   \n",
      "6                0.00  ...          -         -         -        NS         -   \n",
      "7                4.48  ...         NS        NS        NS        NS        NS   \n",
      "8                0.00  ...         NS        NS        NS        NS        NS   \n",
      "9                0.00  ...         NS        NS        NS        NS        NS   \n",
      "10               0.00  ...         NS        NS        NS        NS        NS   \n",
      "11               0.00  ...         NS        NS        NS        NS        NS   \n",
      "12               6.55  ...         NS        NS        NS        NS        NS   \n",
      "13               0.00  ...         NS         -         -         -         -   \n",
      "14               0.00  ...          -         -         -         -         -   \n",
      "15               2.41  ...         NS        NS        NS        NS        NS   \n",
      "16               0.00  ...         NS        NS        NS        NS        NS   \n",
      "17               0.00  ...         NS        NS        NS        NS        NS   \n",
      "18               0.00  ...         NS        NS        NS        NS        NS   \n",
      "19               0.00  ...         NS        NS        NS        NS        NS   \n",
      "20               0.00  ...          -         -         -         -         -   \n",
      "21               2.48  ...          -         -         -         -         -   \n",
      "22               2.41  ...         NS        NS        NS        NS        NS   \n",
      "23               8.97  ...         NS        NS        NS        NS        NS   \n",
      "24               0.00  ...          -        NS        NS        NS        NS   \n",
      "25               6.83  ...         NS        NS        NS        NS        NS   \n",
      "26               8.62  ...         NS        NS         -        NS        NS   \n",
      "27              12.03  ...          -         -         -         -         -   \n",
      "28              11.76  ...         NS        NS        NS        NS        NS   \n",
      "29               4.83  ...          -         -         -         -         -   \n",
      "30               2.48  ...         NS        NS        NS        NS        NS   \n",
      "31               0.00  ...         NS        NS        NS        NS        NS   \n",
      "32               9.83  ...         NS        NS        NS        NS        NS   \n",
      "33              17.28  ...         NS        NS        NS        NS        NS   \n",
      "34              17.90  ...         NS        NS        NS        NS        NS   \n",
      "35              13.41  ...         NS        NS        NS        NS        NS   \n",
      "36               9.10  ...         NS        NS        NS        NS        NS   \n",
      "37              10.86  ...          -         -         -         -         -   \n",
      "38               2.48  ...          -         -         -        NS        NS   \n",
      "39              14.79  ...          -         -         -        NS        NS   \n",
      "40               9.34  ...          -         -         -         -        NS   \n",
      "41               6.76  ...         NS         -        NS        NS         -   \n",
      "42              12.59  ...         NS        NS        NS        NS        NS   \n",
      "43               8.66  ...          -         -         -         -         -   \n",
      "44              13.03  ...          -         -        NS        NS        NS   \n",
      "45              16.79  ...         NS        NS        NS        NS        NS   \n",
      "46               0.00  ...          -         -         -         -        NS   \n",
      "47               8.97  ...          -         -         -         -         -   \n",
      "48               6.21  ...         NS        NS        NS        NS        NS   \n",
      "49               3.79  ...         NS        NS        NS        NS        NS   \n",
      "\n",
      "    TASK - 25 TASK - 26  TASK - 27  TASK - 28  TASK - 29  \n",
      "0          NS        NS         NS         NS         NS  \n",
      "1          NS        NS          -         NS         NS  \n",
      "2          NS        NS         NS         NS         NS  \n",
      "3          NS        NS         NS         NS         NS  \n",
      "4          NS        NS         NS         NS         NS  \n",
      "5          NS        NS         NS         NS         NS  \n",
      "6          NS        NS         NS         NS         NS  \n",
      "7          NS        NS         NS         NS         NS  \n",
      "8          NS        NS         NS         NS         NS  \n",
      "9          NS        NS         NS         NS         NS  \n",
      "10         NS        NS         NS         NS         NS  \n",
      "11         NS        NS         NS         NS         NS  \n",
      "12         NS        NS         NS         NS         NS  \n",
      "13          -        NS         NS         NS         NS  \n",
      "14          -        NS         NS         NS         NS  \n",
      "15         NS        NS         NS         NS         NS  \n",
      "16         NS        NS         NS         NS         NS  \n",
      "17         NS        NS         NS         NS         NS  \n",
      "18         NS        NS         NS         NS         NS  \n",
      "19         NS        NS         NS         NS         NS  \n",
      "20          -         -          -          -         NS  \n",
      "21          -        NS          -          -         NS  \n",
      "22         NS        NS         NS         NS         NS  \n",
      "23         NS        NS         NS         NS         NS  \n",
      "24         NS        NS         NS         NS         NS  \n",
      "25         NS        NS         NS         NS         NS  \n",
      "26         NS        NS         NS         NS         NS  \n",
      "27          -         -         NS         NS         NS  \n",
      "28         NS        NS         NS         NS         NS  \n",
      "29          -         -         NS         NS         NS  \n",
      "30         NS        NS         NS         NS         NS  \n",
      "31         NS        NS         NS         NS         NS  \n",
      "32         NS        NS         NS         NS         NS  \n",
      "33         NS        NS         NS         NS         NS  \n",
      "34         NS        NS         NS         NS         NS  \n",
      "35         NS        NS         NS         NS         NS  \n",
      "36         NS        NS         NS         NS         NS  \n",
      "37         NS        NS          -         NS         NS  \n",
      "38         NS        NS         NS         NS         NS  \n",
      "39         NS        NS         NS         NS         NS  \n",
      "40          -         -         NS         NS         NS  \n",
      "41         NS        NS          -         NS         NS  \n",
      "42         NS        NS         NS         NS         NS  \n",
      "43         NS        NS          -         NS         NS  \n",
      "44         NS        NS         NS         NS         NS  \n",
      "45         NS        NS         NS         NS         NS  \n",
      "46         NS        NS         NS         NS         NS  \n",
      "47          -         -          -          -         NS  \n",
      "48         NS        NS         NS         NS         NS  \n",
      "49         NS        NS         NS         NS         NS  \n",
      "\n",
      "[50 rows x 53 columns]\n"
     ]
    }
   ],
   "source": [
    "import pandas as pd\n",
    "overall=pd.read_csv(\"Sample Dataset - Overall.csv\")\n",
    "task=pd.read_csv(\"Sample Dataset - Task.csv\")\n",
    "print(overall.shape)\n",
    "print(task.shape)\n",
    "df=pd.merge(overall,task,how=\"inner\",on=\"name\")\n",
    "print(df)\n",
    "df.to_csv(\"merged\")"
   ]
  },
  {
   "cell_type": "code",
   "execution_count": 119,
   "metadata": {},
   "outputs": [
    {
     "name": "stdout",
     "output_type": "stream",
     "text": [
      "TOTAL NUMBER OF STUDENTS: 50\n"
     ]
    }
   ],
   "source": [
    "# 1.Total No. Students.\n",
    "total_no_of_students=len(df[\"name\"].unique())\n",
    "print(\"TOTAL NUMBER OF STUDENTS:\",total_no_of_students)"
   ]
  },
  {
   "cell_type": "code",
   "execution_count": 120,
   "metadata": {},
   "outputs": [
    {
     "name": "stdout",
     "output_type": "stream",
     "text": [
      "<class 'pandas.core.frame.DataFrame'>\n",
      "Int64Index: 50 entries, 0 to 49\n",
      "Data columns (total 53 columns):\n",
      " #   Column             Non-Null Count  Dtype  \n",
      "---  ------             --------------  -----  \n",
      " 0   SNO_x              50 non-null     int64  \n",
      " 1   name               50 non-null     object \n",
      " 2   email_x            50 non-null     object \n",
      " 3   Completion%_x      50 non-null     float64\n",
      " 4   totalTask_x        50 non-null     int64  \n",
      " 5   pendingTask_x      50 non-null     int64  \n",
      " 6   submittedTask_x    50 non-null     int64  \n",
      " 7   Unverified_x       50 non-null     int64  \n",
      " 8   TaskTotalMark_x    50 non-null     float64\n",
      " 9   TaskAverageMark_x  50 non-null     float64\n",
      " 10  Attendance %       50 non-null     int64  \n",
      " 11  Mock 1 Attended    50 non-null     object \n",
      " 12  Mock 2 Attended    50 non-null     object \n",
      " 13  Webcode 1          50 non-null     object \n",
      " 14  Webcode 2          50 non-null     object \n",
      " 15  SNO_y              50 non-null     float64\n",
      " 16  email_y            50 non-null     object \n",
      " 17  Completion%_y      50 non-null     float64\n",
      " 18  totalTask_y        50 non-null     float64\n",
      " 19  pendingTask_y      50 non-null     float64\n",
      " 20  submittedTask_y    50 non-null     float64\n",
      " 21  Unverified_y       50 non-null     float64\n",
      " 22  TaskTotalMark_y    50 non-null     float64\n",
      " 23  TaskAverageMark_y  50 non-null     float64\n",
      " 24  TASK - 1           50 non-null     object \n",
      " 25  TASK - 2           50 non-null     object \n",
      " 26  TASK - 3           50 non-null     object \n",
      " 27  TASK - 4           50 non-null     object \n",
      " 28  TASK - 5           50 non-null     object \n",
      " 29  TASK - 6           50 non-null     object \n",
      " 30  TASK - 7           50 non-null     object \n",
      " 31  TASK - 8           50 non-null     object \n",
      " 32  TASK - 9           50 non-null     object \n",
      " 33  TASK - 10          50 non-null     object \n",
      " 34  TASK - 11          50 non-null     object \n",
      " 35  TASK - 12          50 non-null     object \n",
      " 36  TASK - 13          50 non-null     object \n",
      " 37  TASK - 14          50 non-null     object \n",
      " 38  TASK - 15          50 non-null     object \n",
      " 39  TASK - 16          50 non-null     object \n",
      " 40  TASK - 17          50 non-null     object \n",
      " 41  TASK - 18          50 non-null     object \n",
      " 42  TASK - 19          50 non-null     object \n",
      " 43  TASK - 20          50 non-null     object \n",
      " 44  TASK - 21          50 non-null     object \n",
      " 45  TASK - 22          50 non-null     object \n",
      " 46  TASK - 23          50 non-null     object \n",
      " 47  TASK - 24          50 non-null     object \n",
      " 48  TASK - 25          50 non-null     object \n",
      " 49  TASK - 26          50 non-null     object \n",
      " 50  TASK - 27          50 non-null     object \n",
      " 51  TASK - 28          50 non-null     object \n",
      " 52  TASK - 29          50 non-null     object \n",
      "dtypes: float64(11), int64(6), object(36)\n",
      "memory usage: 21.1+ KB\n"
     ]
    }
   ],
   "source": [
    "df.info()"
   ]
  },
  {
   "cell_type": "code",
   "execution_count": 121,
   "metadata": {},
   "outputs": [
    {
     "name": "stdout",
     "output_type": "stream",
     "text": [
      "TOTAL TASK SUBMSSION_% 12.66\n"
     ]
    }
   ],
   "source": [
    "#2.OVERALL TASK SUBMSSION %.\n",
    "task_submission_percent=(df[\"submittedTask_x\"].sum()/total_no_of_students)\n",
    "print(\"TOTAL TASK SUBMSSION_%\",task_submission_percent)"
   ]
  },
  {
   "cell_type": "code",
   "execution_count": 122,
   "metadata": {},
   "outputs": [
    {
     "name": "stdout",
     "output_type": "stream",
     "text": [
      "ATTENDANCE %: 66.38\n"
     ]
    }
   ],
   "source": [
    "# 3.ATTENTANCE %\n",
    "Attendance_percent=df[\"Attendance %\"].sum()/total_no_of_students\n",
    "print(\"ATTENDANCE %:\",Attendance_percent)"
   ]
  },
  {
   "cell_type": "code",
   "execution_count": 123,
   "metadata": {},
   "outputs": [
    {
     "name": "stdout",
     "output_type": "stream",
     "text": [
      "values in webcode:\n",
      " NS     19\n",
      "7      12\n",
      "6       5\n",
      "6.5     3\n",
      "7.6     2\n",
      "7.2     2\n",
      "5       2\n",
      "7.9     1\n",
      "6.6     1\n",
      "6.2     1\n",
      "6.9     1\n",
      "7.4     1\n",
      "Name: Webcode 1, dtype: int64\n"
     ]
    }
   ],
   "source": [
    "#4.overall 1st Webcode Submitted.\n",
    "# checking for what are the values are in.\n",
    "print(\"values in webcode:\\n\",df[\"Webcode 1\"].value_counts())"
   ]
  },
  {
   "cell_type": "code",
   "execution_count": 124,
   "metadata": {},
   "outputs": [
    {
     "name": "stdout",
     "output_type": "stream",
     "text": [
      "<class 'pandas.core.frame.DataFrame'>\n",
      "Int64Index: 50 entries, 0 to 49\n",
      "Data columns (total 53 columns):\n",
      " #   Column             Non-Null Count  Dtype  \n",
      "---  ------             --------------  -----  \n",
      " 0   SNO_x              50 non-null     int64  \n",
      " 1   name               50 non-null     object \n",
      " 2   email_x            50 non-null     object \n",
      " 3   Completion%_x      50 non-null     float64\n",
      " 4   totalTask_x        50 non-null     int64  \n",
      " 5   pendingTask_x      50 non-null     int64  \n",
      " 6   submittedTask_x    50 non-null     int64  \n",
      " 7   Unverified_x       50 non-null     int64  \n",
      " 8   TaskTotalMark_x    50 non-null     float64\n",
      " 9   TaskAverageMark_x  50 non-null     float64\n",
      " 10  Attendance %       50 non-null     int64  \n",
      " 11  Mock 1 Attended    50 non-null     object \n",
      " 12  Mock 2 Attended    50 non-null     object \n",
      " 13  Webcode 1          50 non-null     float64\n",
      " 14  Webcode 2          50 non-null     object \n",
      " 15  SNO_y              50 non-null     float64\n",
      " 16  email_y            50 non-null     object \n",
      " 17  Completion%_y      50 non-null     float64\n",
      " 18  totalTask_y        50 non-null     float64\n",
      " 19  pendingTask_y      50 non-null     float64\n",
      " 20  submittedTask_y    50 non-null     float64\n",
      " 21  Unverified_y       50 non-null     float64\n",
      " 22  TaskTotalMark_y    50 non-null     float64\n",
      " 23  TaskAverageMark_y  50 non-null     float64\n",
      " 24  TASK - 1           50 non-null     object \n",
      " 25  TASK - 2           50 non-null     object \n",
      " 26  TASK - 3           50 non-null     object \n",
      " 27  TASK - 4           50 non-null     object \n",
      " 28  TASK - 5           50 non-null     object \n",
      " 29  TASK - 6           50 non-null     object \n",
      " 30  TASK - 7           50 non-null     object \n",
      " 31  TASK - 8           50 non-null     object \n",
      " 32  TASK - 9           50 non-null     object \n",
      " 33  TASK - 10          50 non-null     object \n",
      " 34  TASK - 11          50 non-null     object \n",
      " 35  TASK - 12          50 non-null     object \n",
      " 36  TASK - 13          50 non-null     object \n",
      " 37  TASK - 14          50 non-null     object \n",
      " 38  TASK - 15          50 non-null     object \n",
      " 39  TASK - 16          50 non-null     object \n",
      " 40  TASK - 17          50 non-null     object \n",
      " 41  TASK - 18          50 non-null     object \n",
      " 42  TASK - 19          50 non-null     object \n",
      " 43  TASK - 20          50 non-null     object \n",
      " 44  TASK - 21          50 non-null     object \n",
      " 45  TASK - 22          50 non-null     object \n",
      " 46  TASK - 23          50 non-null     object \n",
      " 47  TASK - 24          50 non-null     object \n",
      " 48  TASK - 25          50 non-null     object \n",
      " 49  TASK - 26          50 non-null     object \n",
      " 50  TASK - 27          50 non-null     object \n",
      " 51  TASK - 28          50 non-null     object \n",
      " 52  TASK - 29          50 non-null     object \n",
      "dtypes: float64(12), int64(6), object(35)\n",
      "memory usage: 21.1+ KB\n"
     ]
    }
   ],
   "source": [
    "# changing NS to zero and converting them to int data type because webcode in object\n",
    "df[\"Webcode 1\"]=df[\"Webcode 1\"].replace(\"NS\",\"0\")\n",
    "df[\"Webcode 1\"]=df[\"Webcode 1\"].astype(float)\n",
    "df.info()"
   ]
  },
  {
   "cell_type": "code",
   "execution_count": 125,
   "metadata": {},
   "outputs": [
    {
     "name": "stdout",
     "output_type": "stream",
     "text": [
      "overall 1st Webcode Submitted: 208.1\n"
     ]
    }
   ],
   "source": [
    "overall_1st_webcode_1_submitted=df[\"Webcode 1\"].sum()\n",
    "print(\"overall 1st Webcode Submitted:\",overall_1st_webcode_1_submitted)"
   ]
  },
  {
   "cell_type": "code",
   "execution_count": 126,
   "metadata": {},
   "outputs": [
    {
     "name": "stdout",
     "output_type": "stream",
     "text": [
      "values in webcode:\n",
      " NS     24\n",
      "6       7\n",
      "7.6     4\n",
      "7       4\n",
      "6.6     3\n",
      "5       3\n",
      "6.5     2\n",
      "7.9     1\n",
      "6.8     1\n",
      "7.2     1\n",
      "Name: Webcode 2, dtype: int64\n"
     ]
    }
   ],
   "source": [
    "# 5.overall 2nd Webcode Submitted.\n",
    "# checking for what are the values are in.\n",
    "print(\"values in webcode:\\n\",df[\"Webcode 2\"].value_counts())\n"
   ]
  },
  {
   "cell_type": "code",
   "execution_count": 127,
   "metadata": {},
   "outputs": [
    {
     "name": "stdout",
     "output_type": "stream",
     "text": [
      "<class 'pandas.core.frame.DataFrame'>\n",
      "Int64Index: 50 entries, 0 to 49\n",
      "Data columns (total 53 columns):\n",
      " #   Column             Non-Null Count  Dtype  \n",
      "---  ------             --------------  -----  \n",
      " 0   SNO_x              50 non-null     int64  \n",
      " 1   name               50 non-null     object \n",
      " 2   email_x            50 non-null     object \n",
      " 3   Completion%_x      50 non-null     float64\n",
      " 4   totalTask_x        50 non-null     int64  \n",
      " 5   pendingTask_x      50 non-null     int64  \n",
      " 6   submittedTask_x    50 non-null     int64  \n",
      " 7   Unverified_x       50 non-null     int64  \n",
      " 8   TaskTotalMark_x    50 non-null     float64\n",
      " 9   TaskAverageMark_x  50 non-null     float64\n",
      " 10  Attendance %       50 non-null     int64  \n",
      " 11  Mock 1 Attended    50 non-null     object \n",
      " 12  Mock 2 Attended    50 non-null     object \n",
      " 13  Webcode 1          50 non-null     float64\n",
      " 14  Webcode 2          50 non-null     float64\n",
      " 15  SNO_y              50 non-null     float64\n",
      " 16  email_y            50 non-null     object \n",
      " 17  Completion%_y      50 non-null     float64\n",
      " 18  totalTask_y        50 non-null     float64\n",
      " 19  pendingTask_y      50 non-null     float64\n",
      " 20  submittedTask_y    50 non-null     float64\n",
      " 21  Unverified_y       50 non-null     float64\n",
      " 22  TaskTotalMark_y    50 non-null     float64\n",
      " 23  TaskAverageMark_y  50 non-null     float64\n",
      " 24  TASK - 1           50 non-null     object \n",
      " 25  TASK - 2           50 non-null     object \n",
      " 26  TASK - 3           50 non-null     object \n",
      " 27  TASK - 4           50 non-null     object \n",
      " 28  TASK - 5           50 non-null     object \n",
      " 29  TASK - 6           50 non-null     object \n",
      " 30  TASK - 7           50 non-null     object \n",
      " 31  TASK - 8           50 non-null     object \n",
      " 32  TASK - 9           50 non-null     object \n",
      " 33  TASK - 10          50 non-null     object \n",
      " 34  TASK - 11          50 non-null     object \n",
      " 35  TASK - 12          50 non-null     object \n",
      " 36  TASK - 13          50 non-null     object \n",
      " 37  TASK - 14          50 non-null     object \n",
      " 38  TASK - 15          50 non-null     object \n",
      " 39  TASK - 16          50 non-null     object \n",
      " 40  TASK - 17          50 non-null     object \n",
      " 41  TASK - 18          50 non-null     object \n",
      " 42  TASK - 19          50 non-null     object \n",
      " 43  TASK - 20          50 non-null     object \n",
      " 44  TASK - 21          50 non-null     object \n",
      " 45  TASK - 22          50 non-null     object \n",
      " 46  TASK - 23          50 non-null     object \n",
      " 47  TASK - 24          50 non-null     object \n",
      " 48  TASK - 25          50 non-null     object \n",
      " 49  TASK - 26          50 non-null     object \n",
      " 50  TASK - 27          50 non-null     object \n",
      " 51  TASK - 28          50 non-null     object \n",
      " 52  TASK - 29          50 non-null     object \n",
      "dtypes: float64(13), int64(6), object(34)\n",
      "memory usage: 21.1+ KB\n"
     ]
    }
   ],
   "source": [
    "# changing NS to zero and converting them to int data type because webcode in object\n",
    "df[\"Webcode 2\"]=df[\"Webcode 2\"].replace(\"NS\",\"0\")\n",
    "df[\"Webcode 2\"]=df[\"Webcode 2\"].astype(float)\n",
    "df.info()"
   ]
  },
  {
   "cell_type": "code",
   "execution_count": 128,
   "metadata": {},
   "outputs": [
    {
     "name": "stdout",
     "output_type": "stream",
     "text": [
      "overall 2nd Webcode Submitted: 170.10000000000002\n"
     ]
    }
   ],
   "source": [
    "overall_1st_webcode_2_submitted=df[\"Webcode 2\"].sum()\n",
    "print(\"overall 2nd Webcode Submitted:\",overall_1st_webcode_2_submitted)"
   ]
  },
  {
   "cell_type": "code",
   "execution_count": 129,
   "metadata": {},
   "outputs": [
    {
     "name": "stdout",
     "output_type": "stream",
     "text": [
      "overall 2nd Webcode Submitted: 170.1\n"
     ]
    }
   ],
   "source": [
    "# decimals are more limit them for 2.\n",
    "print(\"overall 2nd Webcode Submitted:\",round(overall_1st_webcode_2_submitted,2))"
   ]
  },
  {
   "cell_type": "code",
   "execution_count": 130,
   "metadata": {},
   "outputs": [
    {
     "name": "stdout",
     "output_type": "stream",
     "text": [
      "Checking values in mock 1 attended column to know what are the unqiue reresentations are ther ['YES' 'NO']\n"
     ]
    }
   ],
   "source": [
    "# 6.no of Mock 1 Attended.\n",
    "\"\"\"Here yes-present| no-absent. Byassaigning 1-present, we can count no of Mock 1 Attended \"\"\"\n",
    "print(\"Checking values in mock 1 attended column to know what are the unqiue reresentations are ther\",df[\"Mock 1 Attended\"].unique())"
   ]
  },
  {
   "cell_type": "code",
   "execution_count": 131,
   "metadata": {},
   "outputs": [
    {
     "name": "stdout",
     "output_type": "stream",
     "text": [
      "No of Mock 1 Attended:\n",
      " 33\n"
     ]
    }
   ],
   "source": [
    "\"\"\"Here yes-present| no-absent. Byassaigning 1-present, we can count no of Mock 1 Attended \"\"\"\n",
    "df[\"Mock 1 Attended\"]=df[\"Mock 1 Attended\"].replace(\"YES\",int(1))\n",
    "df[\"Mock 1 Attended\"]=df[\"Mock 1 Attended\"].replace(\"NO\",int(0))\n",
    "print(\"No of Mock 1 Attended:\\n\",df[\"Mock 1 Attended\"].sum())"
   ]
  },
  {
   "cell_type": "code",
   "execution_count": 132,
   "metadata": {},
   "outputs": [
    {
     "name": "stdout",
     "output_type": "stream",
     "text": [
      "Checking values in mock 2 attended column to know what are the unqiue reresentations are ther ['YES' 'NO']\n"
     ]
    }
   ],
   "source": [
    "# 7.no of Mock 2 Attended.\n",
    "# \"\"\"Here yes-present| no-absent. Byassaigning 1-present, we can count no of Mock 1 Attended \"\"\"\n",
    "print(\"Checking values in mock 2 attended column to know what are the unqiue reresentations are ther\",df[\"Mock 2 Attended\"].unique())"
   ]
  },
  {
   "cell_type": "code",
   "execution_count": 136,
   "metadata": {},
   "outputs": [
    {
     "name": "stdout",
     "output_type": "stream",
     "text": [
      "No of mock 2 attended: 39\n"
     ]
    }
   ],
   "source": [
    "df[\"Mock 2 Attended\"]=df[\"Mock 2 Attended\"].replace(\"YES\",int(1))\n",
    "df[\"Mock 2 Attended\"]=df[\"Mock 2 Attended\"].replace(\"NO\",int(0))\n",
    "\n",
    "# counting rows with value=1\n",
    "import numpy as np\n",
    "print(\"No of mock 2 attended:\",np.sum(df[\"Mock 2 Attended\"] == 1))\n"
   ]
  },
  {
   "cell_type": "code",
   "execution_count": 144,
   "metadata": {},
   "outputs": [
    {
     "data": {
      "text/plain": [
       "0                 SNO_x\n",
       "1                  name\n",
       "2               email_x\n",
       "3         Completion%_x\n",
       "4           totalTask_x\n",
       "5         pendingTask_x\n",
       "6       submittedTask_x\n",
       "7          Unverified_x\n",
       "8       TaskTotalMark_x\n",
       "9     TaskAverageMark_x\n",
       "10         Attendance %\n",
       "11      Mock 1 Attended\n",
       "12      Mock 2 Attended\n",
       "13            Webcode 1\n",
       "14            Webcode 2\n",
       "15                SNO_y\n",
       "16              email_y\n",
       "17        Completion%_y\n",
       "18          totalTask_y\n",
       "19        pendingTask_y\n",
       "20      submittedTask_y\n",
       "21         Unverified_y\n",
       "22      TaskTotalMark_y\n",
       "23    TaskAverageMark_y\n",
       "24             TASK - 1\n",
       "25             TASK - 2\n",
       "26             TASK - 3\n",
       "27             TASK - 4\n",
       "28             TASK - 5\n",
       "29             TASK - 6\n",
       "30             TASK - 7\n",
       "31             TASK - 8\n",
       "32             TASK - 9\n",
       "33            TASK - 10\n",
       "34            TASK - 11\n",
       "35            TASK - 12\n",
       "36            TASK - 13\n",
       "37            TASK - 14\n",
       "38            TASK - 15\n",
       "39            TASK - 16\n",
       "40            TASK - 17\n",
       "41            TASK - 18\n",
       "42            TASK - 19\n",
       "43            TASK - 20\n",
       "44            TASK - 21\n",
       "45            TASK - 22\n",
       "46            TASK - 23\n",
       "47            TASK - 24\n",
       "48            TASK - 25\n",
       "49            TASK - 26\n",
       "50            TASK - 27\n",
       "51            TASK - 28\n",
       "52            TASK - 29\n",
       "dtype: object"
      ]
     },
     "execution_count": 144,
     "metadata": {},
     "output_type": "execute_result"
    }
   ],
   "source": [
    "# 8.Count of zero task.\n",
    "# to know the columns number to select the columns having task score.\n",
    "series=pd.Series(df.columns)\n",
    "series"
   ]
  },
  {
   "cell_type": "code",
   "execution_count": 150,
   "metadata": {},
   "outputs": [
    {
     "name": "stdout",
     "output_type": "stream",
     "text": [
      "<class 'pandas.core.frame.DataFrame'>\n",
      "Int64Index: 50 entries, 0 to 49\n",
      "Data columns (total 29 columns):\n",
      " #   Column     Non-Null Count  Dtype \n",
      "---  ------     --------------  ----- \n",
      " 0   TASK - 1   50 non-null     object\n",
      " 1   TASK - 2   50 non-null     object\n",
      " 2   TASK - 3   50 non-null     object\n",
      " 3   TASK - 4   50 non-null     object\n",
      " 4   TASK - 5   50 non-null     object\n",
      " 5   TASK - 6   50 non-null     object\n",
      " 6   TASK - 7   50 non-null     object\n",
      " 7   TASK - 8   50 non-null     object\n",
      " 8   TASK - 9   50 non-null     object\n",
      " 9   TASK - 10  50 non-null     object\n",
      " 10  TASK - 11  50 non-null     object\n",
      " 11  TASK - 12  50 non-null     object\n",
      " 12  TASK - 13  50 non-null     object\n",
      " 13  TASK - 14  50 non-null     object\n",
      " 14  TASK - 15  50 non-null     object\n",
      " 15  TASK - 16  50 non-null     object\n",
      " 16  TASK - 17  50 non-null     object\n",
      " 17  TASK - 18  50 non-null     object\n",
      " 18  TASK - 19  50 non-null     object\n",
      " 19  TASK - 20  50 non-null     object\n",
      " 20  TASK - 21  50 non-null     object\n",
      " 21  TASK - 22  50 non-null     object\n",
      " 22  TASK - 23  50 non-null     object\n",
      " 23  TASK - 24  50 non-null     object\n",
      " 24  TASK - 25  50 non-null     object\n",
      " 25  TASK - 26  50 non-null     object\n",
      " 26  TASK - 27  50 non-null     object\n",
      " 27  TASK - 28  50 non-null     object\n",
      " 28  TASK - 29  50 non-null     object\n",
      "dtypes: object(29)\n",
      "memory usage: 11.7+ KB\n"
     ]
    }
   ],
   "source": [
    "# task has been started from column index =24\n",
    "sample_df=df.iloc[:,24:]\n",
    "sample_df.info()"
   ]
  },
  {
   "cell_type": "code",
   "execution_count": 153,
   "metadata": {},
   "outputs": [
    {
     "data": {
      "text/plain": [
       "28"
      ]
     },
     "execution_count": 153,
     "metadata": {},
     "output_type": "execute_result"
    }
   ],
   "source": [
    "np.sum(df[\"TASK - 1\"]==\"-\")"
   ]
  },
  {
   "cell_type": "code",
   "execution_count": 158,
   "metadata": {},
   "outputs": [
    {
     "name": "stdout",
     "output_type": "stream",
     "text": [
      "Count of Zero Task: 454\n"
     ]
    }
   ],
   "source": [
    "# all the columns are in string.\n",
    "# creating function for counting null values\n",
    "count_of_zero_task=0\n",
    "for i in sample_df.columns:\n",
    "    count_of_zero_task+=np.sum(df[i]==\"-\")\n",
    "print(\"Count of Zero Task:\",count_of_zero_task)"
   ]
  },
  {
   "cell_type": "code",
   "execution_count": 137,
   "metadata": {},
   "outputs": [
    {
     "name": "stdout",
     "output_type": "stream",
     "text": [
      "Count of Zero attendance:\n",
      " 3\n"
     ]
    }
   ],
   "source": [
    "# 9.Overall count of Zero attendance.\n",
    "print(\"Count of Zero attendance:\\n\",np.sum(df[\"Attendance %\"]==int(0)))"
   ]
  },
  {
   "cell_type": "code",
   "execution_count": 139,
   "metadata": {},
   "outputs": [
    {
     "name": "stdout",
     "output_type": "stream",
     "text": [
      "Count of attendance_% above 75:\n",
      " 29\n"
     ]
    }
   ],
   "source": [
    "# 10. count of Attendance above 75%\\\n",
    "print(\"Count of attendance_% above 75:\\n\",np.sum(df[\"Attendance %\"]>75))\n"
   ]
  },
  {
   "cell_type": "code",
   "execution_count": 159,
   "metadata": {},
   "outputs": [
    {
     "name": "stdout",
     "output_type": "stream",
     "text": [
      "Total Number of zero_attendance,task & Mock are:\n",
      " 479\n"
     ]
    }
   ],
   "source": [
    "# 11. lets count the number of zero_attendance,zer task & Mock.\n",
    "print(\"Total Number of zero_attendance,task & Mock are:\\n\",count_of_zero_task +np.sum(df[\"Mock 2 Attended\"]== 0) + np.sum(df[\"Mock 2 Attended\"]==0) + np.sum(df[\"Attendance %\"]==int(0)))"
   ]
  }
 ],
 "metadata": {
  "kernelspec": {
   "display_name": "base",
   "language": "python",
   "name": "python3"
  },
  "language_info": {
   "codemirror_mode": {
    "name": "ipython",
    "version": 3
   },
   "file_extension": ".py",
   "mimetype": "text/x-python",
   "name": "python",
   "nbconvert_exporter": "python",
   "pygments_lexer": "ipython3",
   "version": "3.8.5"
  },
  "orig_nbformat": 4,
  "vscode": {
   "interpreter": {
    "hash": "210753fe63e6ad644d9dca5ed55d6807dde32afbb9c2c84299e506262014096c"
   }
  }
 },
 "nbformat": 4,
 "nbformat_minor": 2
}
